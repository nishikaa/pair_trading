{
 "cells": [
  {
   "cell_type": "markdown",
   "id": "e019dcc1",
   "metadata": {},
   "source": [
    "## Placeholder for Table of Contents Bug on AWS"
   ]
  },
  {
   "cell_type": "markdown",
   "id": "094bc293",
   "metadata": {},
   "source": [
    "## Placeholder for Table of Contents Bug on AWS"
   ]
  },
  {
   "cell_type": "markdown",
   "id": "a2ce0cef",
   "metadata": {},
   "source": [
    "## Placeholder for Table of Contents Bug on AWS"
   ]
  },
  {
   "cell_type": "markdown",
   "id": "17b6eba1",
   "metadata": {},
   "source": [
    "## Placeholder for Table of Contents Bug on AWS"
   ]
  },
  {
   "cell_type": "markdown",
   "id": "be2bb294",
   "metadata": {},
   "source": [
    "# Imports"
   ]
  },
  {
   "cell_type": "code",
   "execution_count": 1,
   "id": "499fa2a3",
   "metadata": {},
   "outputs": [
    {
     "name": "stderr",
     "output_type": "stream",
     "text": [
      "/tmp/ipykernel_26212/2343924658.py:1: DeprecationWarning: \n",
      "Pyarrow will become a required dependency of pandas in the next major release of pandas (pandas 3.0),\n",
      "(to allow more performant data types, such as the Arrow string type, and better interoperability with other libraries)\n",
      "but was not found to be installed on your system.\n",
      "If this would cause problems for you,\n",
      "please provide us feedback at https://github.com/pandas-dev/pandas/issues/54466\n",
      "        \n",
      "  import pandas as pd\n",
      "2024-03-13 01:09:26.630106: I tensorflow/core/util/port.cc:110] oneDNN custom operations are on. You may see slightly different numerical results due to floating-point round-off errors from different computation orders. To turn them off, set the environment variable `TF_ENABLE_ONEDNN_OPTS=0`.\n",
      "2024-03-13 01:09:27.196532: I tensorflow/core/platform/cpu_feature_guard.cc:182] This TensorFlow binary is optimized to use available CPU instructions in performance-critical operations.\n",
      "To enable the following instructions: AVX2 AVX512F AVX512_VNNI AVX512_BF16 AVX_VNNI AMX_TILE AMX_INT8 AMX_BF16 FMA, in other operations, rebuild TensorFlow with the appropriate compiler flags.\n",
      "2024-03-13 01:09:28.739752: W tensorflow/compiler/tf2tensorrt/utils/py_utils.cc:38] TF-TRT Warning: Could not find TensorRT\n"
     ]
    }
   ],
   "source": [
    "import pandas as pd\n",
    "import numpy as np\n",
    "import lightgbm as lgb\n",
    "from sklearn.model_selection import train_test_split\n",
    "from sklearn.preprocessing import StandardScaler,MinMaxScaler\n",
    "from sklearn.linear_model import LinearRegression, LogisticRegression\n",
    "from sklearn.metrics import confusion_matrix, ConfusionMatrixDisplay\n",
    "from sklearn.inspection import permutation_importance\n",
    "import ta\n",
    "import plotly.graph_objects as go\n",
    "from plotly.subplots import make_subplots\n",
    "\n",
    "\n",
    "from tqdm.notebook import tqdm\n",
    "tqdm.pandas()\n",
    "\n",
    "import matplotlib.pyplot as plt\n",
    "import plotly.express as px\n",
    "\n",
    "from sklearn.metrics import f1_score\n",
    "from imblearn.under_sampling import RandomUnderSampler\n",
    "pd.set_option('display.float_format', lambda x: '%.3f' % x)\n",
    "np.set_printoptions(suppress=True)\n",
    "from pprint import pprint\n",
    "\n",
    "from PIL import Image\n",
    "\n",
    "import gc\n",
    "import optuna\n",
    "from sklearn.feature_selection import RFE\n",
    "from math import *\n",
    "import tensorflow as tf\n",
    "from tensorflow import keras\n",
    "from tensorflow.keras.activations import tanh\n",
    "from tensorflow.keras.models import Model, Sequential\n",
    "from tensorflow.keras.callbacks import EarlyStopping\n",
    "from tensorflow.keras.layers import Activation,Dense,Dropout, Conv2D, Concatenate, LeakyReLU, MaxPooling2D, Reshape, Input, LSTM"
   ]
  },
  {
   "cell_type": "code",
   "execution_count": 2,
   "id": "7bb6cf77",
   "metadata": {},
   "outputs": [
    {
     "data": {
      "text/html": [
       "<div>\n",
       "<style scoped>\n",
       "    .dataframe tbody tr th:only-of-type {\n",
       "        vertical-align: middle;\n",
       "    }\n",
       "\n",
       "    .dataframe tbody tr th {\n",
       "        vertical-align: top;\n",
       "    }\n",
       "\n",
       "    .dataframe thead th {\n",
       "        text-align: right;\n",
       "    }\n",
       "</style>\n",
       "<table border=\"1\" class=\"dataframe\">\n",
       "  <thead>\n",
       "    <tr style=\"text-align: right;\">\n",
       "      <th></th>\n",
       "      <th>Date</th>\n",
       "      <th>Ticker_P1</th>\n",
       "      <th>Close_P1</th>\n",
       "      <th>Ticker_P2</th>\n",
       "      <th>Close_P2</th>\n",
       "      <th>High_P1</th>\n",
       "      <th>High_P2</th>\n",
       "      <th>Low_P1</th>\n",
       "      <th>Low_P2</th>\n",
       "      <th>Volume_P1</th>\n",
       "      <th>...</th>\n",
       "      <th>abs_spread_normed_max</th>\n",
       "      <th>abs_spread_normed_90th</th>\n",
       "      <th>abs_spread_normed_75th</th>\n",
       "      <th>abs_spread_normed_median</th>\n",
       "      <th>abs_spread_normed_l7_avg</th>\n",
       "      <th>abs_spread_normed_l14_avg</th>\n",
       "      <th>cos_sim</th>\n",
       "      <th>corr_coef</th>\n",
       "      <th>pnls</th>\n",
       "      <th>num_entries</th>\n",
       "    </tr>\n",
       "  </thead>\n",
       "  <tbody>\n",
       "    <tr>\n",
       "      <th>0</th>\n",
       "      <td>2015-01-02</td>\n",
       "      <td>SLB</td>\n",
       "      <td>66.153</td>\n",
       "      <td>GRMN</td>\n",
       "      <td>39.250</td>\n",
       "      <td>86.200</td>\n",
       "      <td>53.140</td>\n",
       "      <td>84.620</td>\n",
       "      <td>52.320</td>\n",
       "      <td>5500800.000</td>\n",
       "      <td>...</td>\n",
       "      <td>NaN</td>\n",
       "      <td>NaN</td>\n",
       "      <td>NaN</td>\n",
       "      <td>NaN</td>\n",
       "      <td>NaN</td>\n",
       "      <td>NaN</td>\n",
       "      <td>NaN</td>\n",
       "      <td>NaN</td>\n",
       "      <td>NaN</td>\n",
       "      <td>NaN</td>\n",
       "    </tr>\n",
       "    <tr>\n",
       "      <th>1</th>\n",
       "      <td>2015-01-05</td>\n",
       "      <td>SLB</td>\n",
       "      <td>64.361</td>\n",
       "      <td>GRMN</td>\n",
       "      <td>38.167</td>\n",
       "      <td>84.400</td>\n",
       "      <td>52.410</td>\n",
       "      <td>82.590</td>\n",
       "      <td>51.080</td>\n",
       "      <td>10039400.000</td>\n",
       "      <td>...</td>\n",
       "      <td>NaN</td>\n",
       "      <td>NaN</td>\n",
       "      <td>NaN</td>\n",
       "      <td>NaN</td>\n",
       "      <td>NaN</td>\n",
       "      <td>NaN</td>\n",
       "      <td>NaN</td>\n",
       "      <td>NaN</td>\n",
       "      <td>NaN</td>\n",
       "      <td>NaN</td>\n",
       "    </tr>\n",
       "    <tr>\n",
       "      <th>2</th>\n",
       "      <td>2015-01-06</td>\n",
       "      <td>SLB</td>\n",
       "      <td>63.103</td>\n",
       "      <td>GRMN</td>\n",
       "      <td>37.705</td>\n",
       "      <td>83.360</td>\n",
       "      <td>51.250</td>\n",
       "      <td>80.660</td>\n",
       "      <td>50.080</td>\n",
       "      <td>9758400.000</td>\n",
       "      <td>...</td>\n",
       "      <td>NaN</td>\n",
       "      <td>NaN</td>\n",
       "      <td>NaN</td>\n",
       "      <td>NaN</td>\n",
       "      <td>NaN</td>\n",
       "      <td>NaN</td>\n",
       "      <td>NaN</td>\n",
       "      <td>NaN</td>\n",
       "      <td>NaN</td>\n",
       "      <td>NaN</td>\n",
       "    </tr>\n",
       "    <tr>\n",
       "      <th>3</th>\n",
       "      <td>2015-01-07</td>\n",
       "      <td>SLB</td>\n",
       "      <td>63.095</td>\n",
       "      <td>GRMN</td>\n",
       "      <td>38.406</td>\n",
       "      <td>82.660</td>\n",
       "      <td>51.980</td>\n",
       "      <td>80.530</td>\n",
       "      <td>51.340</td>\n",
       "      <td>7951600.000</td>\n",
       "      <td>...</td>\n",
       "      <td>NaN</td>\n",
       "      <td>NaN</td>\n",
       "      <td>NaN</td>\n",
       "      <td>NaN</td>\n",
       "      <td>NaN</td>\n",
       "      <td>NaN</td>\n",
       "      <td>NaN</td>\n",
       "      <td>NaN</td>\n",
       "      <td>NaN</td>\n",
       "      <td>NaN</td>\n",
       "    </tr>\n",
       "    <tr>\n",
       "      <th>4</th>\n",
       "      <td>2015-01-08</td>\n",
       "      <td>SLB</td>\n",
       "      <td>63.859</td>\n",
       "      <td>GRMN</td>\n",
       "      <td>38.406</td>\n",
       "      <td>83.290</td>\n",
       "      <td>51.870</td>\n",
       "      <td>81.940</td>\n",
       "      <td>50.960</td>\n",
       "      <td>7911600.000</td>\n",
       "      <td>...</td>\n",
       "      <td>NaN</td>\n",
       "      <td>NaN</td>\n",
       "      <td>NaN</td>\n",
       "      <td>NaN</td>\n",
       "      <td>NaN</td>\n",
       "      <td>NaN</td>\n",
       "      <td>NaN</td>\n",
       "      <td>NaN</td>\n",
       "      <td>NaN</td>\n",
       "      <td>NaN</td>\n",
       "    </tr>\n",
       "  </tbody>\n",
       "</table>\n",
       "<p>5 rows × 27 columns</p>\n",
       "</div>"
      ],
      "text/plain": [
       "         Date Ticker_P1  Close_P1 Ticker_P2  Close_P2  High_P1  High_P2  \\\n",
       "0  2015-01-02       SLB    66.153      GRMN    39.250   86.200   53.140   \n",
       "1  2015-01-05       SLB    64.361      GRMN    38.167   84.400   52.410   \n",
       "2  2015-01-06       SLB    63.103      GRMN    37.705   83.360   51.250   \n",
       "3  2015-01-07       SLB    63.095      GRMN    38.406   82.660   51.980   \n",
       "4  2015-01-08       SLB    63.859      GRMN    38.406   83.290   51.870   \n",
       "\n",
       "   Low_P1  Low_P2    Volume_P1  ...  abs_spread_normed_max  \\\n",
       "0  84.620  52.320  5500800.000  ...                    NaN   \n",
       "1  82.590  51.080 10039400.000  ...                    NaN   \n",
       "2  80.660  50.080  9758400.000  ...                    NaN   \n",
       "3  80.530  51.340  7951600.000  ...                    NaN   \n",
       "4  81.940  50.960  7911600.000  ...                    NaN   \n",
       "\n",
       "   abs_spread_normed_90th  abs_spread_normed_75th  abs_spread_normed_median  \\\n",
       "0                     NaN                     NaN                       NaN   \n",
       "1                     NaN                     NaN                       NaN   \n",
       "2                     NaN                     NaN                       NaN   \n",
       "3                     NaN                     NaN                       NaN   \n",
       "4                     NaN                     NaN                       NaN   \n",
       "\n",
       "   abs_spread_normed_l7_avg  abs_spread_normed_l14_avg  cos_sim  corr_coef  \\\n",
       "0                       NaN                        NaN      NaN        NaN   \n",
       "1                       NaN                        NaN      NaN        NaN   \n",
       "2                       NaN                        NaN      NaN        NaN   \n",
       "3                       NaN                        NaN      NaN        NaN   \n",
       "4                       NaN                        NaN      NaN        NaN   \n",
       "\n",
       "   pnls  num_entries  \n",
       "0   NaN          NaN  \n",
       "1   NaN          NaN  \n",
       "2   NaN          NaN  \n",
       "3   NaN          NaN  \n",
       "4   NaN          NaN  \n",
       "\n",
       "[5 rows x 27 columns]"
      ]
     },
     "execution_count": 2,
     "metadata": {},
     "output_type": "execute_result"
    }
   ],
   "source": [
    "df = pd.read_csv('/home/ec2-user/Capstone/pair_features1_300_15.csv')\n",
    "df.head()"
   ]
  },
  {
   "cell_type": "code",
   "execution_count": 3,
   "id": "fe9b0803",
   "metadata": {},
   "outputs": [],
   "source": [
    "sector_df = pd.read_csv('/home/ec2-user/Capstone/1999-12-01-2023-12-31.csv')"
   ]
  },
  {
   "cell_type": "code",
   "execution_count": 4,
   "id": "1ce0f8f0",
   "metadata": {},
   "outputs": [
    {
     "name": "stdout",
     "output_type": "stream",
     "text": [
      "(1257000, 27)\n",
      "(1257000, 30)\n"
     ]
    },
    {
     "data": {
      "text/plain": [
       "(1257000, 33)"
      ]
     },
     "execution_count": 4,
     "metadata": {},
     "output_type": "execute_result"
    }
   ],
   "source": [
    "print(df.shape)\n",
    "sector_df = sector_df[['Date','Ticker','Open','Close','Adj Close']]\n",
    "sector_df.columns = ['Date','Ticker_P1','Open_P1','Close_P1','Adj Close_P1']\n",
    "df = pd.merge(df,sector_df,\\\n",
    "                     on=['Date','Ticker_P1'],how='left',suffixes=[None,'_y'])\n",
    "print(df.shape)\n",
    "sector_df.columns = ['Date','Ticker_P2','Open_P2','Close_P2','Adj Close_P2']\n",
    "df = pd.merge(df,sector_df,\\\n",
    "                     on=['Date','Ticker_P2'],how='left',suffixes=[None,'_y'])\n",
    "df.shape"
   ]
  },
  {
   "cell_type": "code",
   "execution_count": 5,
   "id": "a23a2a17",
   "metadata": {},
   "outputs": [],
   "source": [
    "df['pnls'] = df['pnls']*100.0"
   ]
  },
  {
   "cell_type": "code",
   "execution_count": null,
   "id": "0b630b62",
   "metadata": {},
   "outputs": [],
   "source": []
  },
  {
   "cell_type": "code",
   "execution_count": 6,
   "id": "e4d22c2f",
   "metadata": {},
   "outputs": [
    {
     "data": {
      "text/plain": [
       "1257"
      ]
     },
     "execution_count": 6,
     "metadata": {},
     "output_type": "execute_result"
    }
   ],
   "source": [
    "total_days = df.Date.nunique()\n",
    "total_days"
   ]
  },
  {
   "cell_type": "code",
   "execution_count": 7,
   "id": "5ad854f5",
   "metadata": {},
   "outputs": [
    {
     "name": "stdout",
     "output_type": "stream",
     "text": [
      "(1257000, 33)\n"
     ]
    },
    {
     "data": {
      "text/plain": [
       "Date                              0\n",
       "Ticker_P1                         0\n",
       "Close_P1                          0\n",
       "Ticker_P2                         0\n",
       "Close_P2                          0\n",
       "High_P1                           0\n",
       "High_P2                           0\n",
       "Low_P1                            0\n",
       "Low_P2                            0\n",
       "Volume_P1                         0\n",
       "Volume_P2                         0\n",
       "abs_spread                        0\n",
       "abs_spread_mean              299000\n",
       "abs_spread_std               299000\n",
       "abs_spread_mean_l28           27000\n",
       "abs_spread_std_l28            27000\n",
       "spread_normed                299000\n",
       "abs_spread_normed_max        598000\n",
       "abs_spread_normed_90th       598000\n",
       "abs_spread_normed_75th       598000\n",
       "abs_spread_normed_median     598000\n",
       "abs_spread_normed_l7_avg     305000\n",
       "abs_spread_normed_l14_avg    312000\n",
       "cos_sim                      299000\n",
       "corr_coef                    299000\n",
       "pnls                         315000\n",
       "num_entries                  315000\n",
       "Open_P1                           0\n",
       "Close_P1_y                        0\n",
       "Adj Close_P1                      0\n",
       "Open_P2                           0\n",
       "Close_P2_y                        0\n",
       "Adj Close_P2                      0\n",
       "dtype: int64"
      ]
     },
     "execution_count": 7,
     "metadata": {},
     "output_type": "execute_result"
    }
   ],
   "source": [
    "print(df.shape)\n",
    "df.isna().sum()"
   ]
  },
  {
   "cell_type": "code",
   "execution_count": 8,
   "id": "8d594821",
   "metadata": {},
   "outputs": [
    {
     "data": {
      "text/plain": [
       "1257"
      ]
     },
     "execution_count": 8,
     "metadata": {},
     "output_type": "execute_result"
    }
   ],
   "source": [
    "df.Date.nunique()"
   ]
  },
  {
   "cell_type": "code",
   "execution_count": 9,
   "id": "6826a684",
   "metadata": {},
   "outputs": [
    {
     "data": {
      "text/plain": [
       "count   659000.000\n",
       "mean         3.219\n",
       "std          0.743\n",
       "min          1.096\n",
       "25%          2.718\n",
       "50%          3.138\n",
       "75%          3.578\n",
       "max          7.090\n",
       "Name: abs_spread_normed_max, dtype: float64"
      ]
     },
     "execution_count": 9,
     "metadata": {},
     "output_type": "execute_result"
    }
   ],
   "source": [
    "df.abs_spread_normed_max.dropna().describe()"
   ]
  },
  {
   "cell_type": "code",
   "execution_count": 10,
   "id": "b94aec34",
   "metadata": {},
   "outputs": [
    {
     "data": {
      "text/html": [
       "<div>\n",
       "<style scoped>\n",
       "    .dataframe tbody tr th:only-of-type {\n",
       "        vertical-align: middle;\n",
       "    }\n",
       "\n",
       "    .dataframe tbody tr th {\n",
       "        vertical-align: top;\n",
       "    }\n",
       "\n",
       "    .dataframe thead th {\n",
       "        text-align: right;\n",
       "    }\n",
       "</style>\n",
       "<table border=\"1\" class=\"dataframe\">\n",
       "  <thead>\n",
       "    <tr style=\"text-align: right;\">\n",
       "      <th></th>\n",
       "      <th>Date</th>\n",
       "      <th>Ticker_P1</th>\n",
       "      <th>Close_P1</th>\n",
       "      <th>Ticker_P2</th>\n",
       "      <th>Close_P2</th>\n",
       "      <th>High_P1</th>\n",
       "      <th>High_P2</th>\n",
       "      <th>Low_P1</th>\n",
       "      <th>Low_P2</th>\n",
       "      <th>Volume_P1</th>\n",
       "      <th>...</th>\n",
       "      <th>cos_sim</th>\n",
       "      <th>corr_coef</th>\n",
       "      <th>pnls</th>\n",
       "      <th>num_entries</th>\n",
       "      <th>Open_P1</th>\n",
       "      <th>Close_P1_y</th>\n",
       "      <th>Adj Close_P1</th>\n",
       "      <th>Open_P2</th>\n",
       "      <th>Close_P2_y</th>\n",
       "      <th>Adj Close_P2</th>\n",
       "    </tr>\n",
       "  </thead>\n",
       "  <tbody>\n",
       "  </tbody>\n",
       "</table>\n",
       "<p>0 rows × 33 columns</p>\n",
       "</div>"
      ],
      "text/plain": [
       "Empty DataFrame\n",
       "Columns: [Date, Ticker_P1, Close_P1, Ticker_P2, Close_P2, High_P1, High_P2, Low_P1, Low_P2, Volume_P1, Volume_P2, abs_spread, abs_spread_mean, abs_spread_std, abs_spread_mean_l28, abs_spread_std_l28, spread_normed, abs_spread_normed_max, abs_spread_normed_90th, abs_spread_normed_75th, abs_spread_normed_median, abs_spread_normed_l7_avg, abs_spread_normed_l14_avg, cos_sim, corr_coef, pnls, num_entries, Open_P1, Close_P1_y, Adj Close_P1, Open_P2, Close_P2_y, Adj Close_P2]\n",
       "Index: []\n",
       "\n",
       "[0 rows x 33 columns]"
      ]
     },
     "execution_count": 10,
     "metadata": {},
     "output_type": "execute_result"
    }
   ],
   "source": [
    "tmp_df = df[(df.Ticker_P1 == 'TDY') & (df.Ticker_P2 == 'PEP')]\n",
    "tmp_df.head()"
   ]
  },
  {
   "cell_type": "code",
   "execution_count": 11,
   "id": "0d638041",
   "metadata": {},
   "outputs": [
    {
     "data": {
      "text/plain": [
       "Series([], Name: abs_spread_normed_max, dtype: float64)"
      ]
     },
     "execution_count": 11,
     "metadata": {},
     "output_type": "execute_result"
    }
   ],
   "source": [
    "tmp_df.abs_spread_normed_max"
   ]
  },
  {
   "cell_type": "code",
   "execution_count": 12,
   "id": "4dd722ed",
   "metadata": {},
   "outputs": [],
   "source": [
    "df = df.sort_values('Date')"
   ]
  },
  {
   "cell_type": "code",
   "execution_count": 13,
   "id": "ef9190d7",
   "metadata": {},
   "outputs": [
    {
     "name": "stdout",
     "output_type": "stream",
     "text": [
      "2015-01-02 2019-12-30\n"
     ]
    }
   ],
   "source": [
    "print(df.Date.min(),df.Date.max())"
   ]
  },
  {
   "cell_type": "markdown",
   "id": "5d7d7f86",
   "metadata": {},
   "source": [
    "# Bad Data"
   ]
  },
  {
   "cell_type": "code",
   "execution_count": 14,
   "id": "4f0e381c",
   "metadata": {},
   "outputs": [
    {
     "name": "stdout",
     "output_type": "stream",
     "text": [
      "(1257000, 33)\n",
      "(1257000, 33)\n",
      "(1255183, 33)\n"
     ]
    }
   ],
   "source": [
    "print(df.shape)\n",
    "df = df[df['Volume_P1']>0]\n",
    "print(df.shape)\n",
    "df = df[df['Volume_P2']>0]\n",
    "print(df.shape)\n"
   ]
  },
  {
   "cell_type": "code",
   "execution_count": 15,
   "id": "31821bd1",
   "metadata": {},
   "outputs": [
    {
     "name": "stdout",
     "output_type": "stream",
     "text": [
      "(1232286, 33)\n"
     ]
    }
   ],
   "source": [
    "df = df[df['abs_spread']>=1]\n",
    "print(df.shape)"
   ]
  },
  {
   "cell_type": "code",
   "execution_count": 16,
   "id": "f81c8b14",
   "metadata": {},
   "outputs": [
    {
     "data": {
      "text/html": [
       "<div>\n",
       "<style scoped>\n",
       "    .dataframe tbody tr th:only-of-type {\n",
       "        vertical-align: middle;\n",
       "    }\n",
       "\n",
       "    .dataframe tbody tr th {\n",
       "        vertical-align: top;\n",
       "    }\n",
       "\n",
       "    .dataframe thead th {\n",
       "        text-align: right;\n",
       "    }\n",
       "</style>\n",
       "<table border=\"1\" class=\"dataframe\">\n",
       "  <thead>\n",
       "    <tr style=\"text-align: right;\">\n",
       "      <th></th>\n",
       "      <th>Date</th>\n",
       "      <th>Ticker_P1</th>\n",
       "      <th>Close_P1</th>\n",
       "      <th>Ticker_P2</th>\n",
       "      <th>Close_P2</th>\n",
       "      <th>High_P1</th>\n",
       "      <th>High_P2</th>\n",
       "      <th>Low_P1</th>\n",
       "      <th>Low_P2</th>\n",
       "      <th>Volume_P1</th>\n",
       "      <th>...</th>\n",
       "      <th>cos_sim</th>\n",
       "      <th>corr_coef</th>\n",
       "      <th>pnls</th>\n",
       "      <th>num_entries</th>\n",
       "      <th>Open_P1</th>\n",
       "      <th>Close_P1_y</th>\n",
       "      <th>Adj Close_P1</th>\n",
       "      <th>Open_P2</th>\n",
       "      <th>Close_P2_y</th>\n",
       "      <th>Adj Close_P2</th>\n",
       "    </tr>\n",
       "  </thead>\n",
       "  <tbody>\n",
       "    <tr>\n",
       "      <th>843446</th>\n",
       "      <td>2019-12-30</td>\n",
       "      <td>GRMN</td>\n",
       "      <td>88.556</td>\n",
       "      <td>ENPH</td>\n",
       "      <td>25.370</td>\n",
       "      <td>98.630</td>\n",
       "      <td>26.850</td>\n",
       "      <td>97.630</td>\n",
       "      <td>25.230</td>\n",
       "      <td>429500.000</td>\n",
       "      <td>...</td>\n",
       "      <td>0.909</td>\n",
       "      <td>0.625</td>\n",
       "      <td>NaN</td>\n",
       "      <td>NaN</td>\n",
       "      <td>98.470</td>\n",
       "      <td>97.950</td>\n",
       "      <td>88.556</td>\n",
       "      <td>26.710</td>\n",
       "      <td>25.370</td>\n",
       "      <td>25.370</td>\n",
       "    </tr>\n",
       "    <tr>\n",
       "      <th>1256999</th>\n",
       "      <td>2019-12-30</td>\n",
       "      <td>TYL</td>\n",
       "      <td>298.360</td>\n",
       "      <td>NWS</td>\n",
       "      <td>13.808</td>\n",
       "      <td>300.900</td>\n",
       "      <td>14.500</td>\n",
       "      <td>294.780</td>\n",
       "      <td>14.410</td>\n",
       "      <td>300500.000</td>\n",
       "      <td>...</td>\n",
       "      <td>0.993</td>\n",
       "      <td>0.633</td>\n",
       "      <td>NaN</td>\n",
       "      <td>NaN</td>\n",
       "      <td>300.160</td>\n",
       "      <td>298.360</td>\n",
       "      <td>298.360</td>\n",
       "      <td>14.420</td>\n",
       "      <td>14.460</td>\n",
       "      <td>13.808</td>\n",
       "    </tr>\n",
       "  </tbody>\n",
       "</table>\n",
       "<p>2 rows × 33 columns</p>\n",
       "</div>"
      ],
      "text/plain": [
       "               Date Ticker_P1  Close_P1 Ticker_P2  Close_P2  High_P1  High_P2  \\\n",
       "843446   2019-12-30      GRMN    88.556      ENPH    25.370   98.630   26.850   \n",
       "1256999  2019-12-30       TYL   298.360       NWS    13.808  300.900   14.500   \n",
       "\n",
       "         Low_P1  Low_P2  Volume_P1  ...  cos_sim  corr_coef  pnls  \\\n",
       "843446   97.630  25.230 429500.000  ...    0.909      0.625   NaN   \n",
       "1256999 294.780  14.410 300500.000  ...    0.993      0.633   NaN   \n",
       "\n",
       "         num_entries  Open_P1  Close_P1_y  Adj Close_P1  Open_P2  Close_P2_y  \\\n",
       "843446           NaN   98.470      97.950        88.556   26.710      25.370   \n",
       "1256999          NaN  300.160     298.360       298.360   14.420      14.460   \n",
       "\n",
       "         Adj Close_P2  \n",
       "843446         25.370  \n",
       "1256999        13.808  \n",
       "\n",
       "[2 rows x 33 columns]"
      ]
     },
     "execution_count": 16,
     "metadata": {},
     "output_type": "execute_result"
    }
   ],
   "source": [
    "df.tail(2)"
   ]
  },
  {
   "cell_type": "markdown",
   "id": "4f83628f",
   "metadata": {},
   "source": [
    "# Label"
   ]
  },
  {
   "cell_type": "code",
   "execution_count": 17,
   "id": "cc893140",
   "metadata": {},
   "outputs": [
    {
     "data": {
      "text/plain": [
       "direction\n",
       "0    867089\n",
       "1    365197\n",
       "Name: count, dtype: int64"
      ]
     },
     "execution_count": 17,
     "metadata": {},
     "output_type": "execute_result"
    }
   ],
   "source": [
    "# df['abs_spread_mean'] = df['abs_spread_mean_l20']\n",
    "\n",
    "for i in range(17,20):\n",
    "    df['FUTURE_abs_spread_'+str(i)] = df.groupby(['Ticker_P1','Ticker_P2'])['abs_spread'].shift(-1*i)\n",
    "\n",
    "df['FUTURE_abs_spread_avg'] = df[[c for c in df.columns if 'FUTURE_abs_spread_' in c]].mean(axis=1)\n",
    "\n",
    "df['PCT_CHANGE'] = (df['FUTURE_abs_spread_avg'] - df['abs_spread'])*100.0/df['abs_spread']\n",
    "# df['direction'] = np.where(df['PCT_CHANGE'].abs()<3,0,np.where(df['PCT_CHANGE']>0,1,-1))\n",
    "# df['direction'] = np.where((df['FUTURE_abs_spread_avg'] - (df['abs_spread_mean']+1.5*df['abs_spread_std']))>0,1,0)\n",
    "df['direction'] = np.where((df['FUTURE_abs_spread_avg'] - (df['abs_spread_mean']+0.1*df['abs_spread_std']))<0,1,0)\n",
    "\n",
    "df['direction'].value_counts()\n",
    "# df['direction'] = df['PCT_CHANGE']"
   ]
  },
  {
   "cell_type": "markdown",
   "id": "6deae486",
   "metadata": {},
   "source": [
    "# Feature Engineering"
   ]
  },
  {
   "cell_type": "code",
   "execution_count": 18,
   "id": "05002b5a",
   "metadata": {},
   "outputs": [
    {
     "data": {
      "text/html": [
       "<div>\n",
       "<style scoped>\n",
       "    .dataframe tbody tr th:only-of-type {\n",
       "        vertical-align: middle;\n",
       "    }\n",
       "\n",
       "    .dataframe tbody tr th {\n",
       "        vertical-align: top;\n",
       "    }\n",
       "\n",
       "    .dataframe thead th {\n",
       "        text-align: right;\n",
       "    }\n",
       "</style>\n",
       "<table border=\"1\" class=\"dataframe\">\n",
       "  <thead>\n",
       "    <tr style=\"text-align: right;\">\n",
       "      <th></th>\n",
       "      <th>Ticker_P1</th>\n",
       "      <th>Ticker_P2</th>\n",
       "    </tr>\n",
       "  </thead>\n",
       "  <tbody>\n",
       "    <tr>\n",
       "      <th>0</th>\n",
       "      <td>SLB</td>\n",
       "      <td>GRMN</td>\n",
       "    </tr>\n",
       "    <tr>\n",
       "      <th>913839</th>\n",
       "      <td>GRMN</td>\n",
       "      <td>PODD</td>\n",
       "    </tr>\n",
       "    <tr>\n",
       "      <th>87990</th>\n",
       "      <td>SLB</td>\n",
       "      <td>EXR</td>\n",
       "    </tr>\n",
       "    <tr>\n",
       "      <th>915096</th>\n",
       "      <td>GRMN</td>\n",
       "      <td>WBA</td>\n",
       "    </tr>\n",
       "    <tr>\n",
       "      <th>916353</th>\n",
       "      <td>GRMN</td>\n",
       "      <td>CCI</td>\n",
       "    </tr>\n",
       "    <tr>\n",
       "      <th>...</th>\n",
       "      <td>...</td>\n",
       "      <td>...</td>\n",
       "    </tr>\n",
       "    <tr>\n",
       "      <th>789400</th>\n",
       "      <td>GRMN</td>\n",
       "      <td>GIS</td>\n",
       "    </tr>\n",
       "    <tr>\n",
       "      <th>926415</th>\n",
       "      <td>GRMN</td>\n",
       "      <td>ADM</td>\n",
       "    </tr>\n",
       "    <tr>\n",
       "      <th>903789</th>\n",
       "      <td>GRMN</td>\n",
       "      <td>LUV</td>\n",
       "    </tr>\n",
       "    <tr>\n",
       "      <th>897506</th>\n",
       "      <td>GRMN</td>\n",
       "      <td>L</td>\n",
       "    </tr>\n",
       "    <tr>\n",
       "      <th>776854</th>\n",
       "      <td>GRMN</td>\n",
       "      <td>EXPD</td>\n",
       "    </tr>\n",
       "  </tbody>\n",
       "</table>\n",
       "<p>1000 rows × 2 columns</p>\n",
       "</div>"
      ],
      "text/plain": [
       "       Ticker_P1 Ticker_P2\n",
       "0            SLB      GRMN\n",
       "913839      GRMN      PODD\n",
       "87990        SLB       EXR\n",
       "915096      GRMN       WBA\n",
       "916353      GRMN       CCI\n",
       "...          ...       ...\n",
       "789400      GRMN       GIS\n",
       "926415      GRMN       ADM\n",
       "903789      GRMN       LUV\n",
       "897506      GRMN         L\n",
       "776854      GRMN      EXPD\n",
       "\n",
       "[1000 rows x 2 columns]"
      ]
     },
     "execution_count": 18,
     "metadata": {},
     "output_type": "execute_result"
    }
   ],
   "source": [
    "all_pairs = df[['Ticker_P1','Ticker_P2']].drop_duplicates()\n",
    "all_pairs"
   ]
  },
  {
   "cell_type": "code",
   "execution_count": 19,
   "id": "2c6b03ec",
   "metadata": {},
   "outputs": [],
   "source": [
    "for c in ['Open','Low','High']:\n",
    "    for p in ['1','2']:\n",
    "        df[c+'_P'+p] = np.where(df['Adj Close_P'+p]!=df['Close_P'+p+'_y'],\\\n",
    "                                df['Adj Close_P'+p]*df[c+'_P'+p]/df['Close_P'+p+'_y'],\\\n",
    "                                df[c+'_P'+p])"
   ]
  },
  {
   "cell_type": "code",
   "execution_count": 20,
   "id": "20f31a60",
   "metadata": {},
   "outputs": [],
   "source": [
    "df['Date'] = pd.to_datetime(df.Date)"
   ]
  },
  {
   "cell_type": "code",
   "execution_count": 21,
   "id": "a7ed55e4",
   "metadata": {},
   "outputs": [
    {
     "data": {
      "application/vnd.jupyter.widget-view+json": {
       "model_id": "6369bc26a9844b439a02b68f17bfb420",
       "version_major": 2,
       "version_minor": 0
      },
      "text/plain": [
       "  0%|          | 0/1000 [00:00<?, ?it/s]"
      ]
     },
     "metadata": {},
     "output_type": "display_data"
    }
   ],
   "source": [
    "from pathlib import Path\n",
    "\n",
    "X = []\n",
    "y = []\n",
    "\n",
    "count = 0\n",
    "for i in range(301,df.Date.nunique()-120):\n",
    "    for ticker1, ticker2 in tqdm(all_pairs.values):\n",
    "\n",
    "        f_name = ticker1+'_'+ticker2+'_'+'2017-05-23'\n",
    "#         fig.write_image(\"/home/ec2-user/Capstone/Image/\"+f_name+\".png\") \n",
    "        \n",
    "#         try:\n",
    "\n",
    "        path = \"/home/ec2-user/Capstone/Image/\"+f_name+\".png\"\n",
    "        my_file = Path(path)\n",
    "\n",
    "        if my_file.is_file()==False:\n",
    "            continue\n",
    "        image = Image.open(path)\n",
    "        image_arr = np.asarray(image)\n",
    "\n",
    "\n",
    "\n",
    "        target_df = df[(df.Ticker_P1 == ticker1) & (df.Ticker_P2 == ticker2) & (df.Date==pd.to_datetime('2017-05-23'))]\n",
    "        \n",
    "        if target_df.shape[0] == 0:\n",
    "            continue\n",
    "            \n",
    "        label = target_df['direction'].iloc[0]\n",
    "#             print(label)\n",
    "        X.append(image_arr)\n",
    "\n",
    "        y.append(label)\n",
    "        \n",
    "        del image\n",
    "#         except:\n",
    "#             pass\n",
    "        count += 1\n",
    "        if count >= 1000:\n",
    "            break\n",
    "        #         fig.show()\n",
    "#         break\n",
    "    break"
   ]
  },
  {
   "cell_type": "code",
   "execution_count": 22,
   "id": "f49a9a04",
   "metadata": {},
   "outputs": [],
   "source": [
    "# STOP"
   ]
  },
  {
   "cell_type": "code",
   "execution_count": 23,
   "id": "b5f31ee2",
   "metadata": {},
   "outputs": [
    {
     "data": {
      "text/plain": [
       "777427    0\n",
       "Name: direction, dtype: int64"
      ]
     },
     "execution_count": 23,
     "metadata": {},
     "output_type": "execute_result"
    }
   ],
   "source": [
    "df[(df.Ticker_P1 == ticker1) & (df.Ticker_P2 == ticker2) & (df.Date==pd.to_datetime('2017-05-23'))]['direction']"
   ]
  },
  {
   "cell_type": "code",
   "execution_count": 24,
   "id": "8c373244",
   "metadata": {},
   "outputs": [
    {
     "data": {
      "application/vnd.jupyter.widget-view+json": {
       "model_id": "65d7807e41fb47f3998a91e9d5f6edba",
       "version_major": 2,
       "version_minor": 0
      },
      "text/plain": [
       "  0%|          | 0/982 [00:00<?, ?it/s]"
      ]
     },
     "metadata": {},
     "output_type": "display_data"
    }
   ],
   "source": [
    "X = [image * (255.0/image.max()) for image in tqdm(X)]"
   ]
  },
  {
   "cell_type": "code",
   "execution_count": 25,
   "id": "f859eae9",
   "metadata": {},
   "outputs": [],
   "source": [
    "X = np.array(X)\n",
    "y = np.array(y)"
   ]
  },
  {
   "cell_type": "code",
   "execution_count": 26,
   "id": "5f80c2fe",
   "metadata": {},
   "outputs": [],
   "source": [
    "X = X.reshape((X.shape[0],X.shape[1],X.shape[2],X.shape[3],1))"
   ]
  },
  {
   "cell_type": "code",
   "execution_count": 27,
   "id": "776289b6",
   "metadata": {},
   "outputs": [
    {
     "name": "stdout",
     "output_type": "stream",
     "text": [
      "(982, 500, 700, 4, 1)\n",
      "(982,)\n"
     ]
    }
   ],
   "source": [
    "print(X.shape)\n",
    "print(y.shape)"
   ]
  },
  {
   "cell_type": "code",
   "execution_count": 28,
   "id": "e61895ad",
   "metadata": {},
   "outputs": [
    {
     "data": {
      "text/plain": [
       "0    579\n",
       "1    403\n",
       "Name: count, dtype: int64"
      ]
     },
     "execution_count": 28,
     "metadata": {},
     "output_type": "execute_result"
    }
   ],
   "source": [
    "pd.Series(y).value_counts()"
   ]
  },
  {
   "cell_type": "code",
   "execution_count": 29,
   "id": "92fe8e70",
   "metadata": {},
   "outputs": [],
   "source": [
    "# X_train, X_test, y_train, y_test = train_test_split(X, y, test_size=0.35, random_state=42,shuffle=True)\n",
    "# X_val, X_test, y_val, y_test = train_test_split(X_test, y_test, test_size=0.5, random_state=42,shuffle=True)"
   ]
  },
  {
   "cell_type": "code",
   "execution_count": null,
   "id": "2f88d806",
   "metadata": {},
   "outputs": [],
   "source": [
    "import gc\n",
    "gc.collect()"
   ]
  },
  {
   "cell_type": "code",
   "execution_count": 32,
   "id": "c00c3243",
   "metadata": {},
   "outputs": [],
   "source": [
    "def shuffle(matrix, target, test_proportion):\n",
    "    ratio = int(matrix.shape[0]/test_proportion) #should be int\n",
    "    X_train = matrix[ratio:,:,:,:,:]\n",
    "    X_test =  matrix[:ratio,:,:,:,:]\n",
    "    Y_train = target[ratio:]\n",
    "    Y_test =  target[:ratio]\n",
    "    return X_train, X_test, Y_train, Y_test\n",
    "\n",
    "X_train, X_test, y_train, y_test = shuffle(X, y, 3)\n",
    "X_val, X_test, y_val, y_test = shuffle(X_test, y_test, 2)"
   ]
  },
  {
   "cell_type": "code",
   "execution_count": 33,
   "id": "8b96b67e",
   "metadata": {},
   "outputs": [],
   "source": [
    "# # undersample = RandomUnderSampler(sampling_strategy='not minority')\n",
    "# undersample = RandomUnderSampler(sampling_strategy='majority')\n",
    "\n",
    "# X_train, y_train = undersample.fit_resample(X_train, y_train)\n",
    "# X_val, y_val = undersample.fit_resample(X_val, y_val)\n",
    "\n",
    "# sample_size = pd.Series(y_train).value_counts().min()\n",
    "# idx = np.random.choice(np.arange(len(x)), sample_size, replace=False)\n",
    "\n",
    "# X_train_1s = X_train[y==1]\n",
    "# X_train = X_train[X_train==[idx]\n",
    "# y_sample = y[idx]"
   ]
  },
  {
   "cell_type": "code",
   "execution_count": 34,
   "id": "07c6d075",
   "metadata": {},
   "outputs": [
    {
     "name": "stdout",
     "output_type": "stream",
     "text": [
      "0    356\n",
      "1    299\n",
      "Name: count, dtype: int64\n",
      "0    114\n",
      "1     50\n",
      "Name: count, dtype: int64\n",
      "0    109\n",
      "1     54\n",
      "Name: count, dtype: int64\n"
     ]
    }
   ],
   "source": [
    "print(pd.Series(y_train).value_counts())\n",
    "print(pd.Series(y_val).value_counts())\n",
    "print(pd.Series(y_test).value_counts())"
   ]
  },
  {
   "cell_type": "code",
   "execution_count": 35,
   "id": "576b1e1b",
   "metadata": {},
   "outputs": [
    {
     "name": "stdout",
     "output_type": "stream",
     "text": [
      "Model: \"model\"\n",
      "_________________________________________________________________\n",
      " Layer (type)                Output Shape              Param #   \n",
      "=================================================================\n",
      " input_1 (InputLayer)        [(None, 500, 700, 4, 1)   0         \n",
      "                             ]                                   \n",
      "                                                                 \n",
      " conv3d (Conv3D)             (None, 500, 700, 4, 32)   2080      \n",
      "                                                                 \n",
      " max_pooling3d (MaxPooling3  (None, 250, 350, 2, 32)   0         \n",
      " D)                                                              \n",
      "                                                                 \n",
      " batch_normalization (Batch  (None, 250, 350, 2, 32)   128       \n",
      " Normalization)                                                  \n",
      "                                                                 \n",
      " conv3d_1 (Conv3D)           (None, 250, 350, 2, 32)   65568     \n",
      "                                                                 \n",
      " max_pooling3d_1 (MaxPoolin  (None, 125, 175, 1, 32)   0         \n",
      " g3D)                                                            \n",
      "                                                                 \n",
      " batch_normalization_1 (Bat  (None, 125, 175, 1, 32)   128       \n",
      " chNormalization)                                                \n",
      "                                                                 \n",
      " global_average_pooling3d (  (None, 32)                0         \n",
      " GlobalAveragePooling3D)                                         \n",
      "                                                                 \n",
      " dense (Dense)               (None, 64)                2112      \n",
      "                                                                 \n",
      " dropout (Dropout)           (None, 64)                0         \n",
      "                                                                 \n",
      " dense_1 (Dense)             (None, 1)                 65        \n",
      "                                                                 \n",
      "=================================================================\n",
      "Total params: 70081 (273.75 KB)\n",
      "Trainable params: 69953 (273.25 KB)\n",
      "Non-trainable params: 128 (512.00 Byte)\n",
      "_________________________________________________________________\n"
     ]
    },
    {
     "name": "stderr",
     "output_type": "stream",
     "text": [
      "2024-03-13 01:13:08.141739: E tensorflow/compiler/xla/stream_executor/cuda/cuda_driver.cc:268] failed call to cuInit: CUDA_ERROR_NO_DEVICE: no CUDA-capable device is detected\n"
     ]
    }
   ],
   "source": [
    "from tensorflow.keras import layers\n",
    "\n",
    "def get_model(width=500, height=700, depth=4):\n",
    "    \"\"\"Build a 3D convolutional neural network model.\"\"\"\n",
    "\n",
    "    inputs = keras.Input((width, height, depth, 1))\n",
    "\n",
    "    x = layers.Conv3D(filters=32, kernel_size=4, activation=\"relu\",padding='same')(inputs)\n",
    "    x = layers.MaxPool3D(pool_size=2,padding='same')(x)\n",
    "    x = layers.BatchNormalization()(x)\n",
    "\n",
    "    x = layers.Conv3D(filters=32, kernel_size=4, activation=\"relu\",padding='same')(x)\n",
    "    x = layers.MaxPool3D(pool_size=2,padding='same')(x)\n",
    "    x = layers.BatchNormalization()(x)\n",
    "\n",
    "#     x = layers.Conv3D(filters=128, kernel_size=4, activation=\"relu\",padding='same')(x)\n",
    "#     x = layers.MaxPool3D(pool_size=2,padding='same')(x)\n",
    "#     x = layers.BatchNormalization()(x)\n",
    "\n",
    "#     x = layers.Conv3D(filters=256, kernel_size=4, activation=\"relu\",padding='same')(x)\n",
    "#     x = layers.MaxPool3D(pool_size=2,padding='same')(x)\n",
    "#     x = layers.BatchNormalization()(x)\n",
    "\n",
    "    x = layers.GlobalAveragePooling3D()(x)\n",
    "    x = layers.Dense(units=64, activation=\"relu\")(x)\n",
    "    x = layers.Dropout(0.3)(x)\n",
    "\n",
    "    outputs = layers.Dense(units=1, activation=\"sigmoid\")(x)\n",
    "\n",
    "    # Define the model.\n",
    "    model = keras.Model(inputs, outputs)\n",
    "    return model\n",
    "\n",
    "model = get_model(width=500, height=700, depth=4)\n",
    "model.summary()"
   ]
  },
  {
   "cell_type": "code",
   "execution_count": 36,
   "id": "4e9809e9",
   "metadata": {},
   "outputs": [],
   "source": [
    "from tensorflow import keras\n",
    "from keras import optimizers\n",
    "# keras.optimizers.RMSprop(lr=1e-4)\n",
    "adam = keras.optimizers.Adam(learning_rate=1e-6)\n",
    "model.compile(loss='binary_crossentropy', optimizer=adam, metrics=['acc'])\n"
   ]
  },
  {
   "cell_type": "code",
   "execution_count": 37,
   "id": "1d415961",
   "metadata": {},
   "outputs": [
    {
     "data": {
      "text/plain": [
       "{0: 0.9199438202247191, 1: 1.0953177257525084}"
      ]
     },
     "execution_count": 37,
     "metadata": {},
     "output_type": "execute_result"
    }
   ],
   "source": [
    "from sklearn.utils import class_weight\n",
    "class_weights = class_weight.compute_class_weight('balanced', classes=np.unique(y_train), y=y_train)\n",
    "class_weight_dict = dict(enumerate(class_weights))\n",
    "class_weight_dict"
   ]
  },
  {
   "cell_type": "code",
   "execution_count": 38,
   "id": "e26a2dc2",
   "metadata": {},
   "outputs": [
    {
     "name": "stdout",
     "output_type": "stream",
     "text": [
      "Epoch 1/5\n",
      "82/82 [==============================] - 147s 2s/step - loss: 0.6915 - acc: 0.5573 - val_loss: 1.4519 - val_acc: 0.3049\n",
      "Epoch 2/5\n",
      "82/82 [==============================] - 146s 2s/step - loss: 0.6910 - acc: 0.5664 - val_loss: 0.7425 - val_acc: 0.3049\n",
      "Epoch 3/5\n",
      "82/82 [==============================] - 145s 2s/step - loss: 0.6906 - acc: 0.5878 - val_loss: 0.6577 - val_acc: 0.6890\n",
      "Epoch 4/5\n",
      "82/82 [==============================] - 145s 2s/step - loss: 0.6912 - acc: 0.5511 - val_loss: 0.6591 - val_acc: 0.6951\n",
      "Epoch 5/5\n",
      "82/82 [==============================] - 145s 2s/step - loss: 0.6896 - acc: 0.5832 - val_loss: 0.6647 - val_acc: 0.7012\n"
     ]
    }
   ],
   "source": [
    "history = model.fit(X_train,y_train,\\\n",
    "                   epochs=5,\\\n",
    "                   batch_size=8,\\\n",
    "                   validation_data=(X_val,y_val),\\\n",
    "                   verbose=1,\\\n",
    "#                    callbacks=[earlystopper],\\\n",
    "                   shuffle=True,\n",
    "                    class_weight=class_weight_dict\n",
    "                  )"
   ]
  },
  {
   "cell_type": "code",
   "execution_count": 39,
   "id": "37633072",
   "metadata": {},
   "outputs": [
    {
     "name": "stdout",
     "output_type": "stream",
     "text": [
      "6/6 [==============================] - 9s 1s/step\n"
     ]
    }
   ],
   "source": [
    "preds = model.predict(X_test)"
   ]
  },
  {
   "cell_type": "code",
   "execution_count": 40,
   "id": "c18a60e1",
   "metadata": {},
   "outputs": [],
   "source": [
    "preds = np.where(preds.flatten()>0.5,1,0)"
   ]
  },
  {
   "cell_type": "code",
   "execution_count": 41,
   "id": "78ee3848",
   "metadata": {},
   "outputs": [
    {
     "name": "stdout",
     "output_type": "stream",
     "text": [
      "weighted f1:  0.5436103772327939\n",
      "micro f1:  0.6625766871165644\n",
      "macro f1:  0.41531337637774735\n"
     ]
    }
   ],
   "source": [
    "print('weighted f1: ', f1_score(y_test, preds, average='weighted'))\n",
    "print('micro f1: ', f1_score(y_test, preds, average='micro'))\n",
    "print('macro f1: ', f1_score(y_test, preds, average='macro'))"
   ]
  },
  {
   "cell_type": "code",
   "execution_count": 42,
   "id": "d5cd41e7",
   "metadata": {},
   "outputs": [
    {
     "data": {
      "text/plain": [
       "<sklearn.metrics._plot.confusion_matrix.ConfusionMatrixDisplay at 0x7fc8a4f4ffa0>"
      ]
     },
     "execution_count": 42,
     "metadata": {},
     "output_type": "execute_result"
    },
    {
     "data": {
      "image/png": "[encoded data removed]",
      "text/plain": [
       "<Figure size 640x480 with 2 Axes>"
      ]
     },
     "metadata": {},
     "output_type": "display_data"
    }
   ],
   "source": [
    "cm = confusion_matrix(y_test, preds, labels=[0,1],normalize='true')\n",
    "disp = ConfusionMatrixDisplay(confusion_matrix=cm, display_labels=[0,1])\n",
    "disp.plot()"
   ]
  },
  {
   "cell_type": "code",
   "execution_count": null,
   "id": "0749f713",
   "metadata": {},
   "outputs": [],
   "source": []
  }
 ],
 "metadata": {
  "kernelspec": {
   "display_name": "Python 3 (ipykernel)",
   "language": "python",
   "name": "python3"
  },
  "language_info": {
   "codemirror_mode": {
    "name": "ipython",
    "version": 3
   },
   "file_extension": ".py",
   "mimetype": "text/x-python",
   "name": "python",
   "nbconvert_exporter": "python",
   "pygments_lexer": "ipython3",
   "version": "3.10.12"
  },
  "toc": {
   "base_numbering": 1,
   "nav_menu": {},
   "number_sections": true,
   "sideBar": true,
   "skip_h1_title": false,
   "title_cell": "Table of Contents",
   "title_sidebar": "Contents",
   "toc_cell": false,
   "toc_position": {
    "height": "calc(100% - 180px)",
    "left": "10px",
    "top": "150px",
    "width": "256px"
   },
   "toc_section_display": true,
   "toc_window_display": true
  },
  "varInspector": {
   "cols": {
    "lenName": 16,
    "lenType": 16,
    "lenVar": 40
   },
   "kernels_config": {
    "python": {
     "delete_cmd_postfix": "",
     "delete_cmd_prefix": "del ",
     "library": "var_list.py",
     "varRefreshCmd": "print(var_dic_list())"
    },
    "r": {
     "delete_cmd_postfix": ") ",
     "delete_cmd_prefix": "rm(",
     "library": "var_list.r",
     "varRefreshCmd": "cat(var_dic_list()) "
    }
   },
   "types_to_exclude": [
    "module",
    "function",
    "builtin_function_or_method",
    "instance",
    "_Feature"
   ],
   "window_display": false
  }
 },
 "nbformat": 4,
 "nbformat_minor": 5
}
