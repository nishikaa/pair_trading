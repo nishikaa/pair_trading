{
 "cells": [
  {
   "cell_type": "code",
   "execution_count": 1,
   "id": "ed4e2892-ad33-4996-90ea-2f0480f36b41",
   "metadata": {},
   "outputs": [],
   "source": [
    "import pandas as pd\n",
    "import numpy as np\n",
    "import lightgbm as lgb\n",
    "from sklearn.model_selection import train_test_split\n",
    "from sklearn.preprocessing import StandardScaler\n",
    "from sklearn.linear_model import LinearRegression, LogisticRegression\n",
    "from sklearn.metrics import confusion_matrix, ConfusionMatrixDisplay\n",
    "from sklearn.inspection import permutation_importance\n",
    "import matplotlib.pyplot as plt\n",
    "import plotly.express as px\n",
    "pd.set_option('display.float_format', lambda x: '%.3f' % x)\n",
    "np.set_printoptions(suppress=True)\n",
    "import warnings\n",
    "warnings.filterwarnings('ignore')\n",
    "import pickle"
   ]
  },
  {
   "cell_type": "markdown",
   "id": "b7d44138-ab2e-46bb-b0ca-67685ae20634",
   "metadata": {},
   "source": [
    "# Load data and model"
   ]
  },
  {
   "cell_type": "code",
   "execution_count": 2,
   "id": "50b48e05-798f-466f-9719-dbcea4a352d1",
   "metadata": {},
   "outputs": [],
   "source": [
    "# PNLs in the data is calculated by forward looking 120 day\n",
    "test_len = 60"
   ]
  },
  {
   "cell_type": "code",
   "execution_count": 3,
   "id": "ae47889b-2d6a-4582-b19f-a73c4b8d79c8",
   "metadata": {},
   "outputs": [],
   "source": [
    "# This is the output of the data processing for both option1 and 2\n",
    "processed_data = pd.read_csv('../Outputs/data_pipeline_output.csv')"
   ]
  },
  {
   "cell_type": "code",
   "execution_count": 4,
   "id": "a4f413d4-5dea-4e9a-a08b-e7ac387d6fbd",
   "metadata": {},
   "outputs": [],
   "source": [
    "# model that predicts entry apperance\n",
    "with open('../Outputs/entry_model_latest.pkl', 'rb') as file:\n",
    "    entry_model = pickle.load(file)"
   ]
  },
  {
   "cell_type": "code",
   "execution_count": 5,
   "id": "7fb56ac9-35ea-4275-ad60-393895d8f7af",
   "metadata": {},
   "outputs": [],
   "source": [
    "# model that predicts exit appearce\n",
    "with open('../Outputs/exit_model_latest.pkl', 'rb') as file:\n",
    "    exit_model = pickle.load(file)"
   ]
  },
  {
   "cell_type": "markdown",
   "id": "a07a224a-8113-4bb4-8e7a-46b9274d9154",
   "metadata": {},
   "source": [
    "# Define the testing period\n",
    "\n",
    "In training the models above, we used data up to 2021-8-10."
   ]
  },
  {
   "cell_type": "code",
   "execution_count": 6,
   "id": "dff15d87-a8e9-4901-9621-0f35a14690a5",
   "metadata": {},
   "outputs": [],
   "source": [
    "future_data = processed_data[processed_data.Date>'2021-08-10']\n",
    "\n",
    "training_data = processed_data[processed_data.Date<='2021-08-10']"
   ]
  },
  {
   "cell_type": "markdown",
   "id": "e77ad0a6-3923-4e88-9667-e8ff37a01a93",
   "metadata": {},
   "source": [
    "# Get SPY returns"
   ]
  },
  {
   "cell_type": "code",
   "execution_count": 7,
   "id": "5b379bae-5904-4e51-9e0c-1031cf0f874e",
   "metadata": {},
   "outputs": [],
   "source": [
    "spy_df = pd.read_csv('../Data/Training/1999-12-01-2023-12-31_SPY.csv')\n",
    "spy_df = spy_df[['Date','Adj Close']]\n",
    "spy_df.columns = ['Date','SPY_Close']\n",
    "\n",
    "look_forward_d = test_len\n",
    "# Define a variable to calculate the return if we just buy SPY and sell in the next 60 days\n",
    "spy_return = []\n",
    "for i in range(spy_df.shape[0]):\n",
    "    if (i + look_forward_d) < spy_df.shape[0]:\n",
    "        spy_return.append(\n",
    "            (spy_df.loc[i+look_forward_d]['SPY_Close'] - spy_df.loc[i]['SPY_Close'])/spy_df.loc[i]['SPY_Close']\n",
    "        )\n",
    "    else:\n",
    "        spy_return.append(\n",
    "            np.nan\n",
    "        )\n",
    "spy_df['SPY_return'] = spy_return"
   ]
  },
  {
   "cell_type": "code",
   "execution_count": 8,
   "id": "d498aed0-3f6f-4cf4-9c41-455bed432a4c",
   "metadata": {},
   "outputs": [
    {
     "name": "stdout",
     "output_type": "stream",
     "text": [
      "[LightGBM] [Warning] boosting is set=dart, boosting_type=gbdt will be ignored. Current value: boosting=dart\n",
      "[LightGBM] [Warning] min_data_in_leaf is set=196, min_child_samples=20 will be ignored. Current value: min_data_in_leaf=196\n",
      "[LightGBM] [Warning] boosting is set=dart, boosting_type=gbdt will be ignored. Current value: boosting=dart\n",
      "[LightGBM] [Warning] min_data_in_leaf is set=65, min_child_samples=20 will be ignored. Current value: min_data_in_leaf=65\n"
     ]
    }
   ],
   "source": [
    "\n",
    "# Predict entry apperances in the next 1-3 days\n",
    "pred_entry = entry_model.predict(future_data[entry_model.feature_names.values])\n",
    "\n",
    "# Predict exit appearance in the next 9-12 days\n",
    "pred_exit = exit_model.predict(future_data[entry_model.feature_names.values])\n",
    "\n",
    "future_data['entry_appears'] = pred_entry\n",
    "future_data['exit_appears'] = pred_exit\n",
    "\n",
    "# get the next 60d PNL from S&P\n",
    "future_data = pd.merge(\n",
    "    future_data, \n",
    "    spy_df, \n",
    "    how='left',\n",
    "    left_on='Date',\n",
    "    right_on='Date'\n",
    ")"
   ]
  },
  {
   "cell_type": "markdown",
   "id": "3c6d0409-e2a8-4e81-8578-237755ebdce7",
   "metadata": {},
   "source": [
    "# Strategy\n",
    "\n",
    "1. The original option 2 trade strategy when executing pair trading (need to understand which parameters were used when generating data './pair_features_1_pairs500_300_120.csv')\n",
    "\n",
    "2. Only spend on pair trading if:\n",
    "    1. Entry and exit are both predicted to be 1\n",
    "    2. cosine_sim > 0.8\n",
    "  \n",
    "3. We invest part of the money on S&P500 and part of the money on pair-trading. During the next 60 days, if a qualified stock pair does not have entry signal then we do not invest that part of the money\n",
    "    1. For each qualified stock pair, we invest the same amount of money"
   ]
  },
  {
   "cell_type": "code",
   "execution_count": 22,
   "id": "81f6d1bf-27a0-400a-92a1-15aecb197499",
   "metadata": {},
   "outputs": [],
   "source": [
    "qualified_pairs = future_data[\n",
    "    (future_data.entry_appears == 1) & \n",
    "    # (future_data.exit_appears == 1) & \n",
    "    (future_data.stock2vec_cos_sim>0.95)\n",
    "]"
   ]
  },
  {
   "cell_type": "code",
   "execution_count": 23,
   "id": "12c63937-699b-4170-9424-1c95f245d3b6",
   "metadata": {},
   "outputs": [],
   "source": [
    "pair_trading_return = qualified_pairs[['Date','pnls']].groupby('Date').agg(['mean','size']).reset_index()\n",
    "pair_trading_return.columns = ['Date', 'pair_trade_pnls', 'num_pairs_identified']\n",
    "pair_trading_return.num_pairs_identified = pair_trading_return.num_pairs_identified.fillna(0)"
   ]
  },
  {
   "cell_type": "code",
   "execution_count": 24,
   "id": "221508a7-dbf7-42a6-8e4d-4fb96c09dcfa",
   "metadata": {},
   "outputs": [],
   "source": [
    "future_data_spy = future_data[['Date','SPY_return']].drop_duplicates()"
   ]
  },
  {
   "cell_type": "code",
   "execution_count": 25,
   "id": "1f3fc0cf-5292-4802-ab4f-db7641201956",
   "metadata": {},
   "outputs": [],
   "source": [
    "final_return = pd.merge(future_data_spy,pair_trading_return,how='left',on='Date')"
   ]
  },
  {
   "cell_type": "code",
   "execution_count": 26,
   "id": "5243352a-9385-4832-b2db-9403b1b8ef14",
   "metadata": {},
   "outputs": [],
   "source": [
    "# when we did not detect any pairs, we invest everything in SPY\n",
    "final_return.pair_trade_pnls.fillna(final_return.SPY_return,inplace=True)\n",
    "final_return.num_pairs_identified.fillna(0, inplace=True)"
   ]
  },
  {
   "cell_type": "code",
   "execution_count": 27,
   "id": "8bd8b4ea-976d-49af-9a3a-fdc05c0493f3",
   "metadata": {},
   "outputs": [
    {
     "name": "stdout",
     "output_type": "stream",
     "text": [
      "Percentage of days with pair trading opportunity: 0.6802218114602587\n"
     ]
    }
   ],
   "source": [
    "print(f'Percentage of days with pair trading opportunity: {np.mean(final_return.num_pairs_identified>0)}')"
   ]
  },
  {
   "cell_type": "code",
   "execution_count": 28,
   "id": "3ceaf948-4a1c-4c01-827d-e8e2f0756154",
   "metadata": {},
   "outputs": [
    {
     "data": {
      "text/plain": [
       "count   541.000\n",
       "mean      1.327\n",
       "std       1.273\n",
       "min       0.000\n",
       "25%       0.000\n",
       "50%       1.000\n",
       "75%       2.000\n",
       "max       4.000\n",
       "Name: num_pairs_identified, dtype: float64"
      ]
     },
     "execution_count": 28,
     "metadata": {},
     "output_type": "execute_result"
    }
   ],
   "source": [
    "final_return.num_pairs_identified.describe()"
   ]
  },
  {
   "cell_type": "code",
   "execution_count": 32,
   "id": "cde4ee20-330f-465e-94bb-e057ae27b330",
   "metadata": {},
   "outputs": [
    {
     "data": {
      "text/plain": [
       "count   541.000\n",
       "mean      0.002\n",
       "std       0.039\n",
       "min      -0.109\n",
       "25%      -0.015\n",
       "50%       0.000\n",
       "75%       0.014\n",
       "max       0.147\n",
       "Name: delta, dtype: float64"
      ]
     },
     "execution_count": 32,
     "metadata": {},
     "output_type": "execute_result"
    },
    {
     "data": {
      "image/png": "[encoded data removed]",
      "text/plain": [
       "<Figure size 640x480 with 1 Axes>"
      ]
     },
     "metadata": {},
     "output_type": "display_data"
    }
   ],
   "source": [
    "share_for_sp500 = 0.5\n",
    "final_return['strategy_return'] = \\\n",
    "(share_for_sp500*final_return['SPY_return'] + (1-share_for_sp500)*final_return['pair_trade_pnls'])\n",
    "final_return['delta'] = final_return.strategy_return - final_return['SPY_return']\n",
    "final_return['delta'].hist(bins=30)\n",
    "final_return['delta'].describe()"
   ]
  },
  {
   "cell_type": "code",
   "execution_count": 30,
   "id": "84bb9676-c17b-4dd9-8981-9138aa9cf131",
   "metadata": {},
   "outputs": [
    {
     "data": {
      "text/plain": [
       "count   541.000\n",
       "mean      0.009\n",
       "std       0.048\n",
       "min      -0.155\n",
       "25%      -0.021\n",
       "50%       0.009\n",
       "75%       0.045\n",
       "max       0.135\n",
       "Name: strategy_return, dtype: float64"
      ]
     },
     "execution_count": 30,
     "metadata": {},
     "output_type": "execute_result"
    },
    {
     "data": {
      "image/png": "[encoded data removed]",
      "text/plain": [
       "<Figure size 640x480 with 1 Axes>"
      ]
     },
     "metadata": {},
     "output_type": "display_data"
    }
   ],
   "source": [
    "final_return['strategy_return'].hist(bins=30)\n",
    "final_return['strategy_return'].describe()"
   ]
  },
  {
   "cell_type": "code",
   "execution_count": null,
   "id": "d6099073-7b85-4824-9438-758c8c6e4432",
   "metadata": {},
   "outputs": [],
   "source": []
  },
  {
   "cell_type": "code",
   "execution_count": null,
   "id": "6ce78951-948c-4090-b876-a7c5d6ae6869",
   "metadata": {},
   "outputs": [],
   "source": []
  }
 ],
 "metadata": {
  "kernelspec": {
   "display_name": "Python 3 (ipykernel)",
   "language": "python",
   "name": "python3"
  },
  "language_info": {
   "codemirror_mode": {
    "name": "ipython",
    "version": 3
   },
   "file_extension": ".py",
   "mimetype": "text/x-python",
   "name": "python",
   "nbconvert_exporter": "python",
   "pygments_lexer": "ipython3",
   "version": "3.11.6"
  }
 },
 "nbformat": 4,
 "nbformat_minor": 5
}
